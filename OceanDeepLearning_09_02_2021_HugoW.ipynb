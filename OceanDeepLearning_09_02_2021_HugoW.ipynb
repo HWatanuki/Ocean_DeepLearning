{
  "nbformat": 4,
  "nbformat_minor": 0,
  "metadata": {
    "colab": {
      "name": "OceanDeepLearning_09_02_2021_HugoW.ipynb",
      "provenance": [],
      "authorship_tag": "ABX9TyNX6AyNQZYN87qaUoJGNFvi",
      "include_colab_link": true
    },
    "kernelspec": {
      "name": "python3",
      "display_name": "Python 3"
    }
  },
  "cells": [
    {
      "cell_type": "markdown",
      "metadata": {
        "id": "view-in-github",
        "colab_type": "text"
      },
      "source": [
        "<a href=\"https://colab.research.google.com/github/HWatanuki/Ocean_DeepLearning/blob/main/OceanDeepLearning_09_02_2021_HugoW.ipynb\" target=\"_parent\"><img src=\"https://colab.research.google.com/assets/colab-badge.svg\" alt=\"Open In Colab\"/></a>"
      ]
    },
    {
      "cell_type": "code",
      "metadata": {
        "id": "dZYwl85Q0orm"
      },
      "source": [
        "import keras #Importa a biblioteca Keras\r\n",
        "from keras.datasets import mnist # Base de Dados MNIST\r\n",
        "from tensorflow.python.keras import Sequential #Arquitetarura da rede neural\r\n",
        "from tensorflow.python.keras.layers import Dense, Dropout #Neurônio (base da rede) e regularizador (evita overfitting)\r\n",
        "from tensorflow.compat.v1.keras.optimizers import RMSprop #Otimizar (back propagation)"
      ],
      "execution_count": 3,
      "outputs": []
    },
    {
      "cell_type": "code",
      "metadata": {
        "id": "HgHfRdWF8CXS"
      },
      "source": [
        "# Carregando os dados de treino e teste\r\n",
        "\r\n",
        "(x_treino, y_treino), (x_teste, y_teste) = mnist.load_data()"
      ],
      "execution_count": 5,
      "outputs": []
    },
    {
      "cell_type": "code",
      "metadata": {
        "colab": {
          "base_uri": "https://localhost:8080/"
        },
        "id": "pa9EfX7C-z0x",
        "outputId": "cce4b92e-e8b2-4570-8622-c88272c362ce"
      },
      "source": [
        "# Após importar os dados, é importante analisar o conteúdo do dataset e sua estrutura\r\n",
        "\r\n",
        "print (\"Quantidade de imagens para treino:\", len(x_treino))"
      ],
      "execution_count": 6,
      "outputs": [
        {
          "output_type": "stream",
          "text": [
            "Quantidade de imagens para treino: 60000\n"
          ],
          "name": "stdout"
        }
      ]
    }
  ]
}