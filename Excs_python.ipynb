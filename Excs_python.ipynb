{
  "nbformat": 4,
  "nbformat_minor": 0,
  "metadata": {
    "colab": {
      "name": "Excs_python.ipynb",
      "provenance": [],
      "collapsed_sections": [],
      "include_colab_link": true
    },
    "kernelspec": {
      "name": "python3",
      "display_name": "Python 3"
    },
    "language_info": {
      "name": "python"
    }
  },
  "cells": [
    {
      "cell_type": "markdown",
      "metadata": {
        "id": "view-in-github",
        "colab_type": "text"
      },
      "source": [
        "<a href=\"https://colab.research.google.com/github/HWatanuki/Ocean_DeepLearning/blob/main/Excs_python.ipynb\" target=\"_parent\"><img src=\"https://colab.research.google.com/assets/colab-badge.svg\" alt=\"Open In Colab\"/></a>"
      ]
    },
    {
      "cell_type": "markdown",
      "metadata": {
        "id": "AaO1OPcT8P-k"
      },
      "source": [
        "## **Exercícios introdutórios em python**\n"
      ]
    },
    {
      "cell_type": "markdown",
      "metadata": {
        "id": "M_JhPEFH8AvI"
      },
      "source": [
        "###***Saida de dados, bibliotecas***:\n",
        "### Crie um programa que mostre como saida a versão do Python que você está utilizando. Dica (é preciso importar uma biblioteca/modulo)"
      ]
    },
    {
      "cell_type": "code",
      "metadata": {
        "id": "N7XRXGrL8KQk",
        "colab": {
          "base_uri": "https://localhost:8080/"
        },
        "outputId": "939dcd1a-f12d-430e-8735-296fe67f19f4"
      },
      "source": [
        "import sys # Essa linha importa o mudulo sys\n",
        "import platform\n",
        "print(\"Qual é a versão do Python?\")\n",
        "print(sys.version) \n",
        "print(platform.python_version())\n",
        "print(platform.python_compiler())\n",
        "print(sys.version_info)"
      ],
      "execution_count": null,
      "outputs": [
        {
          "output_type": "stream",
          "name": "stdout",
          "text": [
            "Qual é a versão do Python?\n",
            "3.7.12 (default, Sep 10 2021, 00:21:48) \n",
            "[GCC 7.5.0]\n",
            "3.7.12\n",
            "GCC 7.5.0\n",
            "sys.version_info(major=3, minor=7, micro=12, releaselevel='final', serial=0)\n"
          ]
        }
      ]
    },
    {
      "cell_type": "code",
      "metadata": {
        "id": "YfZsdqP30yF3"
      },
      "source": [
        ""
      ],
      "execution_count": null,
      "outputs": []
    },
    {
      "cell_type": "markdown",
      "metadata": {
        "id": "7SaUVxHl9bDw"
      },
      "source": [
        "### ***Saida e entrada de dados, operadores aritméticos:***\n",
        "### Crie um programa que converta metros para centímetros, o programa dever receber um número de entrada e exibir na saída o valor convertido. Mostre uma mensagem legal, tente concatenar."
      ]
    },
    {
      "cell_type": "code",
      "metadata": {
        "id": "rVK9HBLA954I",
        "colab": {
          "base_uri": "https://localhost:8080/"
        },
        "outputId": "45c90968-9327-4cd7-bf46-9d1df765c7ec"
      },
      "source": [
        "md_mt = int(input('digite um numero em metros: '))\n",
        "\n",
        "md_cm = md_mt/100\n",
        "\n",
        "print('o valor correspondente em cm é:', md_cm)\n"
      ],
      "execution_count": 4,
      "outputs": [
        {
          "output_type": "stream",
          "name": "stdout",
          "text": [
            "digite um numero em metros:10\n",
            "o valor correspondente em cm é: 0.1\n"
          ]
        }
      ]
    },
    {
      "cell_type": "markdown",
      "metadata": {
        "id": "iAi_olrlOQep"
      },
      "source": [
        "### ***Saida e entrada de dados, operadores artiméticos, estrutura de repetição:***\n",
        "### Crie um programa que leia um numero inteiro e mostre a tabuada de 1 a 10 desse número."
      ]
    },
    {
      "cell_type": "code",
      "metadata": {
        "id": "rwzZk6ZtOtTV",
        "colab": {
          "base_uri": "https://localhost:8080/"
        },
        "outputId": "df389930-e7ed-4098-d2d6-f582a8156cf3"
      },
      "source": [
        "num = int(input('digite um numero inteiro: '))\n",
        "i = 1\n",
        "while i <= 10:\n",
        "  print(num*i)\n",
        "  i = i + 1\n",
        "\n"
      ],
      "execution_count": 12,
      "outputs": [
        {
          "output_type": "stream",
          "name": "stdout",
          "text": [
            "digite um numero inteiro: 3\n",
            "3\n",
            "6\n",
            "9\n",
            "12\n",
            "15\n",
            "18\n",
            "21\n",
            "24\n",
            "27\n",
            "30\n"
          ]
        }
      ]
    },
    {
      "cell_type": "markdown",
      "metadata": {
        "id": "XCDyHOt0PGaW"
      },
      "source": [
        "### ***Saida e entrada de dados, operadores, conversão de tipos:***\n",
        "### Crie um software que receba dois numeros calcule a média entre eles e mostre o resultado."
      ]
    },
    {
      "cell_type": "code",
      "metadata": {
        "id": "PmKIGJOND1_b"
      },
      "source": [
        ""
      ],
      "execution_count": null,
      "outputs": []
    },
    {
      "cell_type": "markdown",
      "metadata": {
        "id": "LYtHE77KGXWd"
      },
      "source": [
        ""
      ]
    },
    {
      "cell_type": "markdown",
      "metadata": {
        "id": "VXIBNsMU94lQ"
      },
      "source": [
        "### ***Entrada e saida de dados, estrutura de seleção, operadores:***\n",
        "###  Crie um algoritmo que receba o salário atual de um funcionário, calcule o valor do novo salário reajustado de acordo com os dados abaixo.\n",
        "\n",
        "* Se o salario atual do funcionário for abaixo de 1000 reais, o reajuste será de 15%.\n",
        "* Se o salario atual do funcionário for acima de 1000 reais, o reajuste será de 10%."
      ]
    },
    {
      "cell_type": "code",
      "metadata": {
        "id": "Pyc0VisKEtMx",
        "colab": {
          "base_uri": "https://localhost:8080/"
        },
        "outputId": "43e2f402-0121-4596-977f-8afc6109daeb"
      },
      "source": [
        "sal = int(input('digite o salario atual: '))\n",
        "\n",
        "if sal < 1000:\n",
        "  new_sal = 1.15*sal\n",
        "  print('o novo salario e:', new_sal)\n",
        "elif sal > 1000:\n",
        "  new_sal = 1.10*sal\n",
        "  print('o novo salario e:', new_sal)\n",
        "else:\n",
        "  print ('digite um valor acima ou abaixo de 1000 reais')\n",
        "\n",
        "\n",
        "\n"
      ],
      "execution_count": 29,
      "outputs": [
        {
          "output_type": "stream",
          "name": "stdout",
          "text": [
            "digite o salario atual: 5000\n",
            "o novo salario e: 5500.0\n"
          ]
        }
      ]
    },
    {
      "cell_type": "markdown",
      "metadata": {
        "id": "7DDoK5yeJMtY"
      },
      "source": [
        "### ***Entrada e saida de dados, manipulação de strings e f-string:***\n",
        "### Crie um software que leia o nome, a idade e altura de uma pessoa e exiba as informações, use f-string na saida de dados. Altura deve ter apenas uma casa decimal."
      ]
    },
    {
      "cell_type": "code",
      "metadata": {
        "id": "hxVPmZNRJwc9"
      },
      "source": [
        "\n"
      ],
      "execution_count": null,
      "outputs": []
    },
    {
      "cell_type": "markdown",
      "metadata": {
        "id": "a7thAsqLXvIt"
      },
      "source": [
        "### ***Funções, estrutura de repetição***\n",
        "### Crie uma função que exiba todos os numeros pares de 0 a 20 "
      ]
    },
    {
      "cell_type": "code",
      "metadata": {
        "id": "g77dK_77YQkG"
      },
      "source": [
        "def numeros_pares():\n",
        "  i = 0\n",
        "  while i <= 20:\n",
        "    print(i)\n",
        "    i = i + 2\n"
      ],
      "execution_count": 34,
      "outputs": []
    },
    {
      "cell_type": "code",
      "metadata": {
        "id": "6MA5fL_ZLQ4c",
        "outputId": "b8cc07bc-84b5-4eff-8de8-cc0ffc3a5cc4",
        "colab": {
          "base_uri": "https://localhost:8080/"
        }
      },
      "source": [
        "numeros_pares()\n"
      ],
      "execution_count": 35,
      "outputs": [
        {
          "output_type": "stream",
          "name": "stdout",
          "text": [
            "0\n",
            "2\n",
            "4\n",
            "6\n",
            "8\n",
            "10\n",
            "12\n",
            "14\n",
            "16\n",
            "18\n",
            "20\n"
          ]
        }
      ]
    },
    {
      "cell_type": "markdown",
      "metadata": {
        "id": "ype8IIXZa5Ys"
      },
      "source": [
        "### ***Funções com argumentos e retorno, estrtura de decisão:***\n",
        "### Crie uma função que receba dois numeros como argumento e verifique qual o maior"
      ]
    },
    {
      "cell_type": "code",
      "metadata": {
        "id": "Ige0inikbQb5"
      },
      "source": [
        "def maior_numero(num1, num2):\n",
        "  if num1 > num2:\n",
        "    print(num1)\n",
        "  else:\n",
        "    print(num2)\n"
      ],
      "execution_count": 36,
      "outputs": []
    },
    {
      "cell_type": "code",
      "metadata": {
        "colab": {
          "base_uri": "https://localhost:8080/"
        },
        "id": "uiRXvitOc5JF",
        "outputId": "ba06faa7-56fb-4fc9-a6d3-ff23d08427af"
      },
      "source": [
        "maior_numero(534,563)"
      ],
      "execution_count": 38,
      "outputs": [
        {
          "output_type": "stream",
          "name": "stdout",
          "text": [
            "563\n"
          ]
        }
      ]
    },
    {
      "cell_type": "markdown",
      "metadata": {
        "id": "VKLNsM5cd7Zq"
      },
      "source": [
        "# ***Lista:***\n",
        "### Crie uma lista de frutas com cinco frutas, uva, banana, maça, laranja e goiaba.\n",
        "* Exiba o tamanho da lista\n",
        "* Exiba o segundo indice da  lista\n",
        "* Altere banana por acerola\n",
        "* Adicione banana novamente a lista\n",
        "* Insira um maracujá após a uva  \n",
        "* Remova goiaba\n"
      ]
    },
    {
      "cell_type": "code",
      "metadata": {
        "id": "ydjz_F7ofgFc",
        "colab": {
          "base_uri": "https://localhost:8080/"
        },
        "outputId": "c1c1f89c-7ddc-47a6-a6b7-df3b538398f9"
      },
      "source": [
        "minha_lista = ['uva','banana','maca','laranja','goiaba']\n",
        "print(len(minha_lista))\n",
        "print(minha_lista[1])\n",
        "minha_lista[1] = 'acerola'\n",
        "print(minha_lista)\n",
        "minha_lista[1] = 'banana'\n",
        "print(minha_lista)\n",
        "minha_lista.append('maracuja')\n",
        "print(minha_lista)\n",
        "minha_lista.remove('goiaba')\n",
        "print(minha_lista)"
      ],
      "execution_count": 47,
      "outputs": [
        {
          "output_type": "stream",
          "name": "stdout",
          "text": [
            "5\n",
            "banana\n",
            "['uva', 'acerola', 'maca', 'laranja', 'goiaba']\n",
            "['uva', 'banana', 'maca', 'laranja', 'goiaba']\n",
            "['uva', 'banana', 'maca', 'laranja', 'goiaba', 'maracuja']\n",
            "['uva', 'banana', 'maca', 'laranja', 'maracuja']\n"
          ]
        }
      ]
    },
    {
      "cell_type": "markdown",
      "metadata": {
        "id": "2f1NVJBNgAM9"
      },
      "source": [
        "### ***Dicionário***\n",
        "### Crie um dicionário que descreve quem é você, deve conter ser nome, altura, endereço e idade"
      ]
    },
    {
      "cell_type": "code",
      "metadata": {
        "id": "86HjIOkTgrgH"
      },
      "source": [
        ""
      ],
      "execution_count": null,
      "outputs": []
    },
    {
      "cell_type": "markdown",
      "metadata": {
        "id": "XMqPV8lWGbWo"
      },
      "source": [
        "### ***Leitura de arquivos: Bonus***\n",
        "### Crie um software que leia um arquivo .txt"
      ]
    },
    {
      "cell_type": "code",
      "metadata": {
        "id": "KpjnOsooGwBe"
      },
      "source": [
        ""
      ],
      "execution_count": null,
      "outputs": []
    },
    {
      "cell_type": "code",
      "metadata": {
        "id": "pm1JCfRupVC_"
      },
      "source": [
        "## Desafio:"
      ],
      "execution_count": null,
      "outputs": []
    },
    {
      "cell_type": "markdown",
      "metadata": {
        "id": "wJDuXtTFpaKr"
      },
      "source": [
        "## Desafio\n",
        "\n",
        "Faça um algoritmo que encontra a palavra mais frequente em um arquivo de texto"
      ]
    },
    {
      "cell_type": "code",
      "metadata": {
        "id": "KZzZ4uwMpZXu"
      },
      "source": [
        ""
      ],
      "execution_count": null,
      "outputs": []
    }
  ]
}